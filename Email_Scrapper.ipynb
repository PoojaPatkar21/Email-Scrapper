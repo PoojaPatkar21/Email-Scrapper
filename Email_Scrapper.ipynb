{
  "nbformat": 4,
  "nbformat_minor": 0,
  "metadata": {
    "colab": {
      "provenance": []
    },
    "kernelspec": {
      "name": "python3",
      "display_name": "Python 3"
    },
    "language_info": {
      "name": "python"
    }
  },
  "cells": [
    {
      "cell_type": "code",
      "source": [
        "import re\n",
        "import requests\n",
        "from urllib.parse import urlsplit\n",
        "from collections import deque\n",
        "from bs4 import BeautifulSoup\n",
        "import pandas as pd\n",
        "from google.colab import files"
      ],
      "metadata": {
        "id": "vf0UdzKFOIn6"
      },
      "execution_count": null,
      "outputs": []
    },
    {
      "cell_type": "code",
      "source": [
        "# read url from input\n",
        "original_url = input(\"Enter the website url: \")"
      ],
      "metadata": {
        "colab": {
          "base_uri": "https://localhost:8080/"
        },
        "id": "cPjBTGP5ON2o",
        "outputId": "b397b3ce-a747-4e8f-c449-37c16dd13615"
      },
      "execution_count": null,
      "outputs": [
        {
          "name": "stdout",
          "output_type": "stream",
          "text": [
            "Enter the website url: https://sqa.stackexchange.com/questions/27440/various-email-addresses-we-use-to-validate-email-address\n"
          ]
        }
      ]
    },
    {
      "cell_type": "code",
      "source": [
        "\n",
        "# to save urls to be scraped\n",
        "unscraped = deque([original_url])"
      ],
      "metadata": {
        "id": "7x-0RouBOVTR"
      },
      "execution_count": null,
      "outputs": []
    },
    {
      "cell_type": "code",
      "source": [
        "# to save scraped urls\n",
        "scraped = set()"
      ],
      "metadata": {
        "id": "URpPKJcmOZ2D"
      },
      "execution_count": null,
      "outputs": []
    },
    {
      "cell_type": "code",
      "source": [
        "# to save fetched emails\n",
        "emails = set()"
      ],
      "metadata": {
        "id": "MxoHznJuOiGA"
      },
      "execution_count": null,
      "outputs": []
    },
    {
      "cell_type": "code",
      "source": [
        "while len(unscraped):\n",
        "    url = unscraped.popleft()\n",
        "    scraped.add(url)\n",
        "\n",
        "    parts = urlsplit(url)\n",
        "\n",
        "    base_url = \"{0.scheme}://{0.netloc}\".format(parts)\n",
        "    if '/' in parts.path:\n",
        "      path = url[:url.rfind('/')+1]\n",
        "    else:\n",
        "      path = url\n",
        "\n",
        "    print(\"Crawling URL %s\" % url)\n",
        "    try:\n",
        "        response = requests.get(url)\n",
        "    except (requests.exceptions.MissingSchema, requests.exceptions.ConnectionError):\n",
        "        continue\n",
        "\n",
        "    new_emails = set(re.findall(r\"[a-z0-9\\.\\-+_]+@[a-z0-9\\.\\-+_]+\\.com\", response.text, re.I))\n",
        "    emails.update(new_emails)\n",
        "\n",
        "    soup = BeautifulSoup(response.text, 'lxml')\n",
        "\n",
        "    for anchor in soup.find_all(\"a\"):\n",
        "      if \"href\" in anchor.attrs:\n",
        "        link = anchor.attrs[\"href\"]\n",
        "      else:\n",
        "        link = ''\n",
        "\n",
        "        if link.startswith('/'):\n",
        "            link = base_url + link\n",
        "\n",
        "        elif not link.startswith('http'):\n",
        "            link = path + link"
      ],
      "metadata": {
        "id": "TEqiSWC7Ozvk"
      },
      "execution_count": null,
      "outputs": []
    },
    {
      "cell_type": "code",
      "source": [
        "df = pd.DataFrame(emails, columns=[\"Email\"]) # replace with column name you prefer\n",
        "df.to_csv('email.csv', index=False)"
      ],
      "metadata": {
        "id": "oI-e7juvOzkq"
      },
      "execution_count": null,
      "outputs": []
    },
    {
      "cell_type": "code",
      "source": [],
      "metadata": {
        "id": "YTh23vEDRRug"
      },
      "execution_count": null,
      "outputs": []
    },
    {
      "cell_type": "code",
      "source": [
        "from google.colab import files\n",
        "files.download(\"email.csv\")"
      ],
      "metadata": {
        "colab": {
          "base_uri": "https://localhost:8080/",
          "height": 17
        },
        "id": "uhQne1LIPGoH",
        "outputId": "16545d8c-f807-41c1-d89e-f85c4b525044"
      },
      "execution_count": null,
      "outputs": [
        {
          "output_type": "display_data",
          "data": {
            "text/plain": [
              "<IPython.core.display.Javascript object>"
            ],
            "application/javascript": [
              "\n",
              "    async function download(id, filename, size) {\n",
              "      if (!google.colab.kernel.accessAllowed) {\n",
              "        return;\n",
              "      }\n",
              "      const div = document.createElement('div');\n",
              "      const label = document.createElement('label');\n",
              "      label.textContent = `Downloading \"${filename}\": `;\n",
              "      div.appendChild(label);\n",
              "      const progress = document.createElement('progress');\n",
              "      progress.max = size;\n",
              "      div.appendChild(progress);\n",
              "      document.body.appendChild(div);\n",
              "\n",
              "      const buffers = [];\n",
              "      let downloaded = 0;\n",
              "\n",
              "      const channel = await google.colab.kernel.comms.open(id);\n",
              "      // Send a message to notify the kernel that we're ready.\n",
              "      channel.send({})\n",
              "\n",
              "      for await (const message of channel.messages) {\n",
              "        // Send a message to notify the kernel that we're ready.\n",
              "        channel.send({})\n",
              "        if (message.buffers) {\n",
              "          for (const buffer of message.buffers) {\n",
              "            buffers.push(buffer);\n",
              "            downloaded += buffer.byteLength;\n",
              "            progress.value = downloaded;\n",
              "          }\n",
              "        }\n",
              "      }\n",
              "      const blob = new Blob(buffers, {type: 'application/binary'});\n",
              "      const a = document.createElement('a');\n",
              "      a.href = window.URL.createObjectURL(blob);\n",
              "      a.download = filename;\n",
              "      div.appendChild(a);\n",
              "      a.click();\n",
              "      div.remove();\n",
              "    }\n",
              "  "
            ]
          },
          "metadata": {}
        },
        {
          "output_type": "display_data",
          "data": {
            "text/plain": [
              "<IPython.core.display.Javascript object>"
            ],
            "application/javascript": [
              "download(\"download_e9fce4cb-77e0-4212-836c-589bbb8acae7\", \"email.csv\", 439)"
            ]
          },
          "metadata": {}
        }
      ]
    },
    {
      "cell_type": "markdown",
      "source": [
        "# New section"
      ],
      "metadata": {
        "id": "aYGZ_pm5PEVU"
      }
    },
    {
      "cell_type": "code",
      "source": [
        "import re\n",
        "import requests\n",
        "from urllib.parse import urlsplit\n",
        "from collections import deque\n",
        "from bs4 import BeautifulSoup\n",
        "import pandas as pd\n",
        "from google.colab import files\n",
        "\n",
        "# read url from input\n",
        "original_url = input(\"Enter the website url: \")\n",
        "\n",
        "# to save urls to be scraped\n",
        "unscraped = deque([original_url])\n",
        "\n",
        "# to save scraped urls\n",
        "scraped = set()\n",
        "\n",
        "# to save fetched emails\n",
        "emails = set()\n",
        "\n",
        "while len(unscraped):\n",
        "    url = unscraped.popleft()\n",
        "    scraped.add(url)\n",
        "\n",
        "    parts = urlsplit(url)\n",
        "\n",
        "    base_url = \"{0.scheme}://{0.netloc}\".format(parts)\n",
        "    if '/' in parts.path:\n",
        "      path = url[:url.rfind('/')+1]\n",
        "    else:\n",
        "      path = url\n",
        "\n",
        "    print(\"Crawling URL %s\" % url)\n",
        "    try:\n",
        "        response = requests.get(url)\n",
        "    except (requests.exceptions.MissingSchema, requests.exceptions.ConnectionError):\n",
        "        continue\n",
        "\n",
        "    new_emails = set(re.findall(r\"[a-z0-9\\.\\-+_]+@[a-z0-9\\.\\-+_]+\\.com\", response.text, re.I))\n",
        "    emails.update(new_emails)\n",
        "\n",
        "    soup = BeautifulSoup(response.text, 'lxml')\n",
        "\n",
        "    for anchor in soup.find_all(\"a\"):\n",
        "      if \"href\" in anchor.attrs:\n",
        "        link = anchor.attrs[\"href\"]\n",
        "      else:\n",
        "        link = ''\n",
        "\n",
        "        if link.startswith('/'):\n",
        "            link = base_url + link\n",
        "\n",
        "        elif not link.startswith('http'):\n",
        "            link = path + link"
      ],
      "metadata": {
        "id": "prqJFWn9OEwp"
      },
      "execution_count": null,
      "outputs": []
    }
  ]
}